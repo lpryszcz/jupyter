{
 "cells": [
  {
   "cell_type": "code",
   "execution_count": 1,
   "metadata": {
    "collapsed": false
   },
   "outputs": [
    {
     "name": "stdout",
     "output_type": "stream",
     "text": [
      "Fri Jun 24 11:40:11 CEST 2016 1 Hello world!\r\n",
      "Fri Jun 24 11:40:11 CEST 2016 2 Hello world!\r\n",
      "Fri Jun 24 11:40:11 CEST 2016 3 Hello world!\r\n",
      "Fri Jun 24 11:40:11 CEST 2016 4 Hello world!\r\n",
      "Fri Jun 24 11:40:11 CEST 2016 5 Hello world!\r\n",
      "Fri Jun 24 11:40:11 CEST 2016 6 Hello world!\r\n",
      "Fri Jun 24 11:40:11 CEST 2016 7 Hello world!\r\n",
      "Fri Jun 24 11:40:11 CEST 2016 8 Hello world!\r\n",
      "Fri Jun 24 11:40:11 CEST 2016 9 Hello world!\r\n",
      "Fri Jun 24 11:40:11 CEST 2016 10 Hello world!\r\n"
     ]
    }
   ],
   "source": [
    "# print Hello world! 10 times\n",
    "for i in `seq 1 1 10`; do\n",
    "    echo $i \"Hello world!\"\n",
    "done;"
   ]
  },
  {
   "cell_type": "code",
   "execution_count": null,
   "metadata": {
    "collapsed": true
   },
   "outputs": [],
   "source": []
  }
 ],
 "metadata": {
  "kernelspec": {
   "display_name": "Bash",
   "language": "bash",
   "name": "bash"
  },
  "language_info": {
   "codemirror_mode": "shell",
   "file_extension": ".sh",
   "mimetype": "text/x-sh",
   "name": "bash"
  }
 },
 "nbformat": 4,
 "nbformat_minor": 0
}
